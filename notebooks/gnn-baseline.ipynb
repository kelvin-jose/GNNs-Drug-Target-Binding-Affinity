{
 "cells": [
  {
   "cell_type": "code",
   "execution_count": 5,
   "id": "92105b9c",
   "metadata": {},
   "outputs": [],
   "source": [
    "import torch\n",
    "import torch.nn as nn\n",
    "import torch.nn.functional as F\n",
    "from torch_geometric.data import Data\n",
    "from torch_geometric.nn import GCNConv, GraphConv, SAGEConv, global_mean_pool"
   ]
  },
  {
   "cell_type": "code",
   "execution_count": 65,
   "id": "21f65918",
   "metadata": {},
   "outputs": [],
   "source": [
    "class BaselineGNN(nn.Module):\n",
    "    def __init__(self, in_channels, hidden_channels=64, num_layers=2):\n",
    "        super().__init__()\n",
    "        self.convs = nn.ModuleList()\n",
    "        self.bns = nn.ModuleList()\n",
    "\n",
    "        self.convs.append(SAGEConv(in_channels, hidden_channels))\n",
    "        self.bns.append(nn.BatchNorm1d(hidden_channels))\n",
    "        for i in range(num_layers-1):\n",
    "            self.convs.append(SAGEConv(hidden_channels, hidden_channels))\n",
    "            self.bns.append(nn.BatchNorm1d(hidden_channels))\n",
    "\n",
    "        self.pool = global_mean_pool\n",
    "        \n",
    "        self.head = nn.Sequential(\n",
    "            nn.Linear(hidden_channels, hidden_channels//2),\n",
    "            nn.ReLU(),\n",
    "            nn.Linear(hidden_channels//2, 1)\n",
    "        )\n",
    "\n",
    "    def forward(self, data):\n",
    "        x, edge_index = data.x, data.edge_index\n",
    "        print(x.dtype, edge_index.dtype)\n",
    "        for conv, bn in zip(self.convs, self.bns):\n",
    "            x = conv(x, edge_index)\n",
    "            x = bn(x)\n",
    "            x = F.relu(x)\n",
    "        batch = data.batch if hasattr(data, \"batch\") else torch.zeros(x.size(0), dtype=torch.long, device=x.device)\n",
    "        h = self.pool(x, batch)\n",
    "        out = self.head(h).squeeze(-1)\n",
    "        return out\n"
   ]
  },
  {
   "cell_type": "code",
   "execution_count": 66,
   "id": "5bb7d787",
   "metadata": {},
   "outputs": [],
   "source": [
    "model = BaselineGNN(32)"
   ]
  },
  {
   "cell_type": "code",
   "execution_count": 71,
   "id": "e65d5c8f",
   "metadata": {},
   "outputs": [],
   "source": [
    "data = Data(x = torch.randint(0, 32, (4, 32)).float(), \n",
    "            edge_index = torch.randint(0, 4, (2, 30)))"
   ]
  },
  {
   "cell_type": "code",
   "execution_count": 72,
   "id": "5d334559",
   "metadata": {},
   "outputs": [
    {
     "data": {
      "text/plain": [
       "tensor([[3, 1, 1, 2, 1, 3, 2, 3, 3, 2, 3, 0, 2, 1, 3, 3, 2, 1, 1, 1, 3, 3, 2, 2,\n",
       "         0, 1, 1, 3, 3, 0],\n",
       "        [0, 1, 1, 0, 3, 1, 1, 1, 0, 0, 1, 0, 1, 2, 2, 0, 0, 3, 2, 1, 2, 3, 3, 3,\n",
       "         0, 2, 0, 0, 1, 3]])"
      ]
     },
     "execution_count": 72,
     "metadata": {},
     "output_type": "execute_result"
    }
   ],
   "source": [
    "data.edge_index"
   ]
  },
  {
   "cell_type": "code",
   "execution_count": 73,
   "id": "e27475b7",
   "metadata": {},
   "outputs": [
    {
     "data": {
      "text/plain": [
       "tensor([[19., 28.,  6.,  3.,  3.,  2., 11., 25.,  5., 26., 18., 28., 28., 19.,\n",
       "         26.,  6., 13., 26., 12., 27., 11., 21.,  0.,  4., 20., 30., 22., 24.,\n",
       "          4.,  8., 17., 29.],\n",
       "        [ 0., 24.,  0.,  9., 11.,  7., 24., 28., 26., 22., 18., 22.,  8., 14.,\n",
       "         22.,  9., 21., 17., 23., 21., 23.,  0., 24., 30., 15., 21., 23., 11.,\n",
       "          6., 16., 31., 24.],\n",
       "        [16.,  6., 16.,  5.,  0., 23., 28.,  0., 13., 22., 31., 25.,  7., 16.,\n",
       "         16., 12.,  7., 10.,  2., 28.,  8., 21., 11., 20., 28.,  7.,  7., 28.,\n",
       "         26., 20.,  5., 26.],\n",
       "        [16., 10.,  2., 17.,  6.,  5.,  8., 24., 10., 20., 16.,  5., 29., 26.,\n",
       "          1., 19.,  7., 21., 29., 27., 30., 22.,  7.,  0., 16.,  6., 26., 11.,\n",
       "          1.,  4., 25.,  9.]])"
      ]
     },
     "execution_count": 73,
     "metadata": {},
     "output_type": "execute_result"
    }
   ],
   "source": [
    "data.x"
   ]
  },
  {
   "cell_type": "code",
   "execution_count": 74,
   "id": "47ef93df",
   "metadata": {},
   "outputs": [
    {
     "name": "stdout",
     "output_type": "stream",
     "text": [
      "torch.float32 torch.int64\n"
     ]
    },
    {
     "data": {
      "text/plain": [
       "tensor([0.1311], grad_fn=<SqueezeBackward1>)"
      ]
     },
     "execution_count": 74,
     "metadata": {},
     "output_type": "execute_result"
    }
   ],
   "source": [
    "model(data)"
   ]
  },
  {
   "cell_type": "code",
   "execution_count": null,
   "id": "11f5a95b",
   "metadata": {},
   "outputs": [],
   "source": []
  },
  {
   "cell_type": "code",
   "execution_count": null,
   "id": "f3934885",
   "metadata": {},
   "outputs": [],
   "source": []
  }
 ],
 "metadata": {
  "kernelspec": {
   "display_name": "Python [conda env:jupyter] *",
   "language": "python",
   "name": "conda-env-jupyter-py"
  },
  "language_info": {
   "codemirror_mode": {
    "name": "ipython",
    "version": 3
   },
   "file_extension": ".py",
   "mimetype": "text/x-python",
   "name": "python",
   "nbconvert_exporter": "python",
   "pygments_lexer": "ipython3",
   "version": "3.10.8"
  }
 },
 "nbformat": 4,
 "nbformat_minor": 5
}
